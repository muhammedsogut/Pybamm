{
 "cells": [
  {
   "cell_type": "code",
   "execution_count": 4,
   "id": "08dbc95f",
   "metadata": {},
   "outputs": [],
   "source": [
    "import create_model\n",
    "import numpy as np\n",
    "import os\n",
    "# Change simulation parameters here\n",
    "temperature = 25  # in degC, valid values: 0, 10, 25\n",
    "crate = 1         # valid values: 0.5, 1, 2\n",
    "cell_selected = [\"789\"]   # select the cell to optimize\n",
    "param_optimised={\"Negative electrode diffusivity [m2.s-1]\":(5e-14,(2.06e-16,2.06e-12)),\n",
    "                #  \"Negative electrode reaction coefficient\":(6.48e-7,(2.18589831e-9,2.18589831e-5)),\n",
    "                #  \"Total heat transfer coefficient [W.m-2.K-1]\":(20,(0.1,1000)),\n",
    "                #  (\"Positive current collector specific heat capacity [J.kg-1.K-1]\",\n",
    "                #   \"Negative current collector specific heat capacity [J.kg-1.K-1]\",\n",
    "                #   \"Negative electrode specific heat capacity [J.kg-1.K-1]\",\n",
    "                #   \"Separator specific heat capacity [J.kg-1.K-1]\",\n",
    "                #   \"Positive electrode specific heat capacity [J.kg-1.K-1]\"):(2.85e3,(2.85, 2.85e6))\n",
    "                 }\n",
    "model=create_model.model_build(temperature, crate, cell_selected, param_optimised)\n",
    "x0, bounds = model.get_values()"
   ]
  },
  {
   "cell_type": "code",
   "execution_count": 5,
   "id": "c1b04d31",
   "metadata": {},
   "outputs": [
    {
     "name": "stdout",
     "output_type": "stream",
     "text": [
      "start optimization\n",
      "16.25\n"
     ]
    },
    {
     "name": "stderr",
     "output_type": "stream",
     "text": [
      "2022-07-29 16:51:34.117 - [WARNING] processed_variable.__call__(486): Calling variable outside interpolation range (returns 'nan')\n",
      "2022-07-29 16:51:34.796 - [WARNING] processed_variable.__call__(486): Calling variable outside interpolation range (returns 'nan')\n",
      "2022-07-29 16:52:15.159 - [WARNING] processed_variable.__call__(486): Calling variable outside interpolation range (returns 'nan')\n",
      "2022-07-29 16:52:15.521 - [WARNING] processed_variable.__call__(486): Calling variable outside interpolation range (returns 'nan')\n",
      "2022-07-29 16:52:15.922 - [WARNING] processed_variable.__call__(486): Calling variable outside interpolation range (returns 'nan')\n",
      "2022-07-29 16:52:16.348 - [WARNING] processed_variable.__call__(486): Calling variable outside interpolation range (returns 'nan')\n",
      "2022-07-29 16:52:40.454 - [WARNING] processed_variable.__call__(486): Calling variable outside interpolation range (returns 'nan')\n",
      "2022-07-29 16:52:41.042 - [WARNING] processed_variable.__call__(486): Calling variable outside interpolation range (returns 'nan')\n",
      "2022-07-29 16:53:02.460 - [WARNING] processed_variable.__call__(486): Calling variable outside interpolation range (returns 'nan')\n",
      "2022-07-29 16:53:02.530 - [WARNING] processed_variable.__call__(486): Calling variable outside interpolation range (returns 'nan')\n",
      "2022-07-29 16:53:02.575 - [WARNING] processed_variable.__call__(486): Calling variable outside interpolation range (returns 'nan')\n",
      "2022-07-29 16:53:03.264 - [WARNING] processed_variable.__call__(486): Calling variable outside interpolation range (returns 'nan')\n",
      "2022-07-29 16:53:03.412 - [WARNING] processed_variable.__call__(486): Calling variable outside interpolation range (returns 'nan')\n",
      "2022-07-29 16:53:03.425 - [WARNING] processed_variable.__call__(486): Calling variable outside interpolation range (returns 'nan')\n",
      "2022-07-29 16:53:22.242 - [WARNING] processed_variable.__call__(486): Calling variable outside interpolation range (returns 'nan')\n",
      "2022-07-29 16:53:23.347 - [WARNING] processed_variable.__call__(486): Calling variable outside interpolation range (returns 'nan')\n",
      "2022-07-29 16:53:26.656 - [WARNING] processed_variable.__call__(486): Calling variable outside interpolation range (returns 'nan')\n",
      "2022-07-29 16:53:27.924 - [WARNING] processed_variable.__call__(486): Calling variable outside interpolation range (returns 'nan')\n",
      "2022-07-29 16:53:38.107 - [WARNING] processed_variable.__call__(486): Calling variable outside interpolation range (returns 'nan')\n",
      "2022-07-29 16:53:38.606 - [WARNING] processed_variable.__call__(486): Calling variable outside interpolation range (returns 'nan')\n",
      "2022-07-29 16:53:47.563 - [WARNING] processed_variable.__call__(486): Calling variable outside interpolation range (returns 'nan')\n",
      "2022-07-29 16:53:47.822 - [WARNING] processed_variable.__call__(486): Calling variable outside interpolation range (returns 'nan')\n",
      "2022-07-29 16:53:48.303 - [WARNING] processed_variable.__call__(486): Calling variable outside interpolation range (returns 'nan')\n",
      "2022-07-29 16:53:48.484 - [WARNING] processed_variable.__call__(486): Calling variable outside interpolation range (returns 'nan')\n",
      "2022-07-29 16:53:54.918 - [WARNING] processed_variable.__call__(486): Calling variable outside interpolation range (returns 'nan')\n",
      "2022-07-29 16:53:55.822 - [WARNING] processed_variable.__call__(486): Calling variable outside interpolation range (returns 'nan')\n",
      "2022-07-29 16:54:11.121 - [WARNING] processed_variable.__call__(486): Calling variable outside interpolation range (returns 'nan')\n",
      "2022-07-29 16:54:11.473 - [WARNING] processed_variable.__call__(486): Calling variable outside interpolation range (returns 'nan')\n",
      "2022-07-29 16:54:18.086 - [WARNING] processed_variable.__call__(486): Calling variable outside interpolation range (returns 'nan')\n",
      "2022-07-29 16:54:18.443 - [WARNING] processed_variable.__call__(486): Calling variable outside interpolation range (returns 'nan')\n",
      "2022-07-29 16:54:18.484 - [WARNING] processed_variable.__call__(486): Calling variable outside interpolation range (returns 'nan')\n",
      "2022-07-29 16:54:18.492 - [WARNING] processed_variable.__call__(486): Calling variable outside interpolation range (returns 'nan')\n",
      "2022-07-29 16:54:18.718 - [WARNING] processed_variable.__call__(486): Calling variable outside interpolation range (returns 'nan')\n",
      "2022-07-29 16:54:18.736 - [WARNING] processed_variable.__call__(486): Calling variable outside interpolation range (returns 'nan')\n",
      "2022-07-29 16:54:24.378 - [WARNING] processed_variable.__call__(486): Calling variable outside interpolation range (returns 'nan')\n",
      "2022-07-29 16:54:24.646 - [WARNING] processed_variable.__call__(486): Calling variable outside interpolation range (returns 'nan')\n",
      "2022-07-29 16:54:24.657 - [WARNING] processed_variable.__call__(486): Calling variable outside interpolation range (returns 'nan')\n",
      "2022-07-29 16:54:24.920 - [WARNING] processed_variable.__call__(486): Calling variable outside interpolation range (returns 'nan')\n",
      "2022-07-29 16:54:29.877 - [WARNING] processed_variable.__call__(486): Calling variable outside interpolation range (returns 'nan')\n",
      "2022-07-29 16:54:30.229 - [WARNING] processed_variable.__call__(486): Calling variable outside interpolation range (returns 'nan')\n",
      "2022-07-29 16:54:35.217 - [WARNING] processed_variable.__call__(486): Calling variable outside interpolation range (returns 'nan')\n",
      "2022-07-29 16:54:35.407 - [WARNING] processed_variable.__call__(486): Calling variable outside interpolation range (returns 'nan')\n",
      "2022-07-29 16:54:35.629 - [WARNING] processed_variable.__call__(486): Calling variable outside interpolation range (returns 'nan')\n",
      "2022-07-29 16:54:35.685 - [WARNING] processed_variable.__call__(486): Calling variable outside interpolation range (returns 'nan')\n",
      "2022-07-29 16:54:35.793 - [WARNING] processed_variable.__call__(486): Calling variable outside interpolation range (returns 'nan')\n",
      "2022-07-29 16:54:35.878 - [WARNING] processed_variable.__call__(486): Calling variable outside interpolation range (returns 'nan')\n"
     ]
    },
    {
     "name": "stdout",
     "output_type": "stream",
     "text": [
      "21.359375\n",
      "5.109375\n",
      "end optimization\n"
     ]
    }
   ],
   "source": [
    "import time\n",
    "from scipy import optimize\n",
    "print(\"start optimization\")\n",
    "start = time.process_time()\n",
    "print(start)\n",
    "minimum = optimize.differential_evolution(model.fitness, bounds, x0=x0, workers=-1, updating='deferred', polish=False)\n",
    "end = time.process_time()\n",
    "print(end)\n",
    "print(end - start)\n",
    "print(\"end optimization\")"
   ]
  },
  {
   "cell_type": "code",
   "execution_count": 5,
   "id": "340aba74",
   "metadata": {},
   "outputs": [
    {
     "name": "stdout",
     "output_type": "stream",
     "text": [
      "Initial function value: 0.024381720690227652\n",
      "Optimized function value: 0.015507049772406417\n",
      "Optimized values are: [1.41109054e-14]\n"
     ]
    },
    {
     "data": {
      "image/png": "[encoded data removed]",
      "text/plain": [
       "<Figure size 792x324 with 2 Axes>"
      ]
     },
     "metadata": {
      "needs_background": "light"
     },
     "output_type": "display_data"
    }
   ],
   "source": [
    "print(\"Initial function value: %s\" %model.fitness(x0))\n",
    "\n",
    "print(\"Optimized function value: %s\" %model.fitness(minimum.x))\n",
    "\n",
    "print(\"Optimized values are: %s\" %minimum.x)\n",
    "\n",
    "model.define_model(minimum.x)\n",
    "\n",
    "model.model_plot()"
   ]
  },
  {
   "cell_type": "code",
   "execution_count": null,
   "id": "48a44af8",
   "metadata": {},
   "outputs": [],
   "source": [
    "minimum"
   ]
  },
  {
   "cell_type": "code",
   "execution_count": null,
   "id": "b1f3afb3",
   "metadata": {},
   "outputs": [],
   "source": [
    "\"Negative electrode reaction coefficient\":(6.48e-7,(2.18589831e-9,2.18589831e-5)),\n",
    "                 \"Total heat transfer coefficient [W.m-2.K-1]\":(20,(0.1,1000)),\n",
    "                 (\"Positive current collector specific heat capacity [J.kg-1.K-1]\",\n",
    "                  \"Negative current collector specific heat capacity [J.kg-1.K-1]\",\n",
    "                  \"Negative electrode specific heat capacity [J.kg-1.K-1]\",\n",
    "                  \"Separator specific heat capacity [J.kg-1.K-1]\",\n",
    "                  \"Positive electrode specific heat capacity [J.kg-1.K-1]\"):(2.85e3,(2.85, 2.85e6)),"
   ]
  },
  {
   "cell_type": "code",
   "execution_count": null,
   "id": "f6cf67fc",
   "metadata": {
    "scrolled": true
   },
   "outputs": [],
   "source": [
    "model.fmin()"
   ]
  },
  {
   "cell_type": "code",
   "execution_count": null,
   "id": "7e960818",
   "metadata": {},
   "outputs": [],
   "source": [
    "model.fitness(x0)"
   ]
  },
  {
   "cell_type": "code",
   "execution_count": null,
   "id": "889c7e1e",
   "metadata": {},
   "outputs": [],
   "source": [
    "from scipy import optimize\n",
    "x0 =np.array([5e-14,6.48e-7,20,2.85e3]) # Initial values of parameters\n",
    "# Create bounds\n",
    "#max_bound = np.array([ 2.06e-12, 2.18589831e-5,1000,2.85e6])\n",
    "#min_bound = np.array([ 2.06e-16, 2.18589831e-9,0.1,2.85])\n",
    "\n",
    "#bounds of the variables as (min,max) {This might need adjustment according to the optimization method.}\n",
    "bounds = [(2.06e-16,2.06e-12),(2.18589831e-9,2.18589831e-5),(0.1,1000),(2.85, 2.85e6)] \n",
    "\n",
    "\n",
    "#model.fitness(x0) #initial value of the function"
   ]
  },
  {
   "cell_type": "code",
   "execution_count": null,
   "id": "c705e88a",
   "metadata": {},
   "outputs": [],
   "source": [
    "def maplike_fun(func, iterable):\n",
    "    # x.shape == (S, N), where S is the size of the population and N\n",
    "    # is the number of parameters. This is where you'd call out from\n",
    "    # Python to COMSOL, instead of the following line.\n",
    "    return func(iterable.T)"
   ]
  },
  {
   "cell_type": "code",
   "execution_count": null,
   "id": "81759641",
   "metadata": {},
   "outputs": [],
   "source": [
    "from scipy import optimize\n",
    "minimum=optimize.differential_evolution(model.fitness, bounds, x0=x0, workers=maplike_fun, polish=False, updating='deferred')"
   ]
  },
  {
   "cell_type": "code",
   "execution_count": null,
   "id": "b73f0536",
   "metadata": {},
   "outputs": [],
   "source": [
    "%time # time the solver\n",
    "from scipy import optimize\n",
    "import multiprocessing as mp\n",
    "pool = mp.Pool(4)\n",
    "minimum = optimize.differential_evolution(model.fitness, bounds, x0=x0, workers=-1, updating='deferred')"
   ]
  },
  {
   "cell_type": "code",
   "execution_count": null,
   "id": "5d09b32c",
   "metadata": {},
   "outputs": [],
   "source": [
    "minimum"
   ]
  },
  {
   "cell_type": "code",
   "execution_count": null,
   "id": "c06f474e",
   "metadata": {},
   "outputs": [],
   "source": [
    "import time\n",
    "from scipy import optimize\n",
    "print(\"start optimization\")\n",
    "start = time.process_time()\n",
    "print(start)\n",
    "minimum = optimize.differential_evolution(model.fitness, bounds, x0=x0)\n",
    "end = time.process_time()\n",
    "print(end)\n",
    "print(end - start)\n",
    "print(\"end optimization\")"
   ]
  },
  {
   "cell_type": "code",
   "execution_count": null,
   "id": "70c45c23",
   "metadata": {},
   "outputs": [],
   "source": [
    "\n",
    "param_optimised=list(param_optimised)\n",
    "for index,item in enumerate(param_optimised):\n",
    "    #param_optimised.remove(item)\n",
    "    if item == str('Negative electrode exchange-current density [A.m-2]'):\n",
    "        param_optimised[index]= 'Negative electrode exchange-current density [A.m-2] : j0_neg'\n",
    "        #param_optimised.add(item)\n",
    "    else :\n",
    "        param_optimised[index] = str(item) + str(' : \"[input]\"')\n",
    "        #param_optimised.add(item)\n"
   ]
  },
  {
   "cell_type": "code",
   "execution_count": null,
   "id": "af0f3d32",
   "metadata": {},
   "outputs": [],
   "source": [
    "param_optimised"
   ]
  },
  {
   "cell_type": "code",
   "execution_count": null,
   "id": "609b84dc",
   "metadata": {},
   "outputs": [],
   "source": [
    "for item in param_optimised:\n",
    "    print(item)"
   ]
  },
  {
   "cell_type": "code",
   "execution_count": null,
   "id": "45603957",
   "metadata": {},
   "outputs": [],
   "source": [
    "str('Negative electrode exchange-current density [A.m-2]')"
   ]
  },
  {
   "cell_type": "code",
   "execution_count": null,
   "id": "4d2a0daf",
   "metadata": {},
   "outputs": [],
   "source": [
    "set(param_optimised)"
   ]
  },
  {
   "cell_type": "code",
   "execution_count": null,
   "id": "712de22d",
   "metadata": {},
   "outputs": [],
   "source": [
    "import pybamm\n",
    "pybamm.ParameterValues(chemistry=pybamm.parameter_sets.Chen2020)"
   ]
  },
  {
   "cell_type": "code",
   "execution_count": null,
   "id": "7d512310",
   "metadata": {},
   "outputs": [],
   "source": [
    "param_optimised[(\"Positive current collector specific heat capacity [J.kg-1.K-1]\",\n",
    "                  \"Negative current collector specific heat capacity [J.kg-1.K-1]\",\n",
    "                  \"Negative electrode specific heat capacity [J.kg-1.K-1]\",\n",
    "                  \"Separator specific heat capacity [J.kg-1.K-1]\",\n",
    "                  \"Positive electrode specific heat capacity [J.kg-1.K-1]\")][1]"
   ]
  },
  {
   "cell_type": "code",
   "execution_count": null,
   "id": "b68992e3",
   "metadata": {},
   "outputs": [],
   "source": [
    "param_optimised={\"Negative electrode diffusivity [m2.s-1]\":(5e-14,(2.06e-16,2.06e-12)),\n",
    "                 \"Negative electrode reaction coefficient\":(6.48e-7,(2.18589831e-9,2.18589831e-5)),\n",
    "                 \"Total heat transfer coefficient [W.m-2.K-1]\":(20,(0.1,1000)),\n",
    "                 (\"Positive current collector specific heat capacity [J.kg-1.K-1]\",\n",
    "                  \"Negative current collector specific heat capacity [J.kg-1.K-1]\",\n",
    "                  \"Negative electrode specific heat capacity [J.kg-1.K-1]\",\n",
    "                  \"Separator specific heat capacity [J.kg-1.K-1]\",\n",
    "                  \"Positive electrode specific heat capacity [J.kg-1.K-1]\"):(2.85e3,(2.85, 2.85e6)),\n",
    "                 }"
   ]
  },
  {
   "cell_type": "code",
   "execution_count": null,
   "id": "d2a132e9",
   "metadata": {},
   "outputs": [],
   "source": [
    "import numpy as np\n",
    "prm_updt={}\n",
    "prm_func={}\n",
    "x0=np.empty([len(param_optimised)])\n",
    "bounds=[None]*len(param_optimised)\n",
    "#x=[None]*len(param_optimised)\n",
    "for index,item in enumerate(param_optimised):\n",
    "    if type(item)==str:\n",
    "        prm_updt[item]=\"[input]\"\n",
    "        prm_func[item]='x[%s]'%index\n",
    "        x0[index]=param_optimised[item][0]\n",
    "        bounds[index]=param_optimised[item][1]\n",
    "    elif type(item)==tuple:\n",
    "        i=0\n",
    "        for i in range(len(item)):\n",
    "            prm_updt[item[i]]=\"[input]\"\n",
    "            prm_func[item[i]]='x[%s]'%index\n",
    "        x0[index]=param_optimised[item][0]\n",
    "        bounds[index]=param_optimised[item][1]\n",
    "    else:\n",
    "        print('data type is not supported')\n"
   ]
  },
  {
   "cell_type": "code",
   "execution_count": null,
   "id": "061adf59",
   "metadata": {},
   "outputs": [],
   "source": [
    "param_optimised['Negative electrode diffusivity [m2.s-1]'][1]\n"
   ]
  },
  {
   "cell_type": "code",
   "execution_count": null,
   "id": "5642e124",
   "metadata": {},
   "outputs": [],
   "source": [
    "bounds"
   ]
  },
  {
   "cell_type": "code",
   "execution_count": null,
   "id": "67780555",
   "metadata": {},
   "outputs": [],
   "source": [
    "prm_func"
   ]
  },
  {
   "cell_type": "code",
   "execution_count": null,
   "id": "907e6b2d",
   "metadata": {},
   "outputs": [],
   "source": [
    "x=x0"
   ]
  },
  {
   "cell_type": "code",
   "execution_count": null,
   "id": "07319daa",
   "metadata": {},
   "outputs": [],
   "source": [
    "{k:exec(v) for k, v in prm_func.items()}"
   ]
  },
  {
   "cell_type": "code",
   "execution_count": null,
   "id": "a51ad91e",
   "metadata": {},
   "outputs": [],
   "source": [
    "for index,item in enumerate(param_optimised):\n",
    "    if type(item)==str:\n",
    "        prm_func[item]=x[index]\n",
    "    elif type(item)==tuple:\n",
    "        i=0\n",
    "        for i in range(len(item)):\n",
    "            prm_func[item[i]]=x[index]"
   ]
  },
  {
   "cell_type": "code",
   "execution_count": null,
   "id": "dbf76208",
   "metadata": {},
   "outputs": [],
   "source": []
  }
 ],
 "metadata": {
  "kernelspec": {
   "display_name": "Python 3.7.4 ('env': venv)",
   "language": "python",
   "name": "python3"
  },
  "language_info": {
   "codemirror_mode": {
    "name": "ipython",
    "version": 3
   },
   "file_extension": ".py",
   "mimetype": "text/x-python",
   "name": "python",
   "nbconvert_exporter": "python",
   "pygments_lexer": "ipython3",
   "version": "3.7.4"
  },
  "vscode": {
   "interpreter": {
    "hash": "b234acda5be76652af51acc617357d5d23e8c9953a98e5a4abc385b855add528"
   }
  }
 },
 "nbformat": 4,
 "nbformat_minor": 5
}
