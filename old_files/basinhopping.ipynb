{
 "cells": [
  {
   "cell_type": "code",
   "execution_count": 1,
   "id": "08dbc95f",
   "metadata": {},
   "outputs": [],
   "source": [
    "import create_model\n",
    "import numpy as np\n",
    "# Change simulation parameters here\n",
    "temperature = 25  # in degC, valid values: 0, 10, 25\n",
    "crate = 1         # valid values: 0.5, 1, 2\n",
    "cells_ignore = [\"790\",\"791\",\"792\"]   # cells to ignore, in this case we ignore cell 791 because the data for that cell is faulty"
   ]
  },
  {
   "cell_type": "code",
   "execution_count": null,
   "id": "889c7e1e",
   "metadata": {},
   "outputs": [],
   "source": [
    "# Create bounds\n",
    "class MyBounds:\n",
    "    def __init__(self, xmax=[2.06e-12, 2.18589831e-5,1000,2.85e6], xmin=[ 2.06e-16, 2.18589831e-9,0.1,2.85]):\n",
    "        self.xmax = np.array(xmax)\n",
    "        self.xmin = np.array(xmin)\n",
    "    def __call__(self, **kwargs):\n",
    "        x = kwargs[\"x_new\"]\n",
    "        tmax = bool(np.all(x <= self.xmax))\n",
    "        tmin = bool(np.all(x >= self.xmin)\n",
    "        return tmax and tmin"
   ]
  },
  {
   "cell_type": "code",
   "execution_count": 2,
   "id": "14b96731",
   "metadata": {},
   "outputs": [
    {
     "data": {
      "text/plain": [
       "array(0.01547922)"
      ]
     },
     "execution_count": 2,
     "metadata": {},
     "output_type": "execute_result"
    }
   ],
   "source": [
    "model=create_model.model_build(temperature,crate,cells_ignore)\n",
    "x0 =np.array([5e-14,6.48e-7,20,2.85e3])\n",
    "bounds=((2.06e-16,2.06e-12),(2.18589831e-9,2.18589831e-5),(0.1,1000),(2.85,2.85e6)) #bounds of the variable optimized\n",
    "model.fitness(x0) #initial value of the function"
   ]
  },
  {
   "cell_type": "code",
   "execution_count": null,
   "id": "957c3553",
   "metadata": {},
   "outputs": [
    {
     "name": "stdout",
     "output_type": "stream",
     "text": [
      "CPU times: total: 0 ns\n",
      "Wall time: 0 ns\n"
     ]
    }
   ],
   "source": [
    "%time\n",
    "from scipy.optimize import basinhopping\n",
    "#minimizer_kwargs = {\"method\": \"BFGS\"}\n",
    "minimum = basinhopping(model.fitness, x0, niter=10)"
   ]
  },
  {
   "cell_type": "code",
   "execution_count": null,
   "id": "e6ea5297",
   "metadata": {},
   "outputs": [],
   "source": [
    "print(\"Initial function value: %s\" %model.fitness(x0))\n",
    "\n",
    "print(\"Optimized function value: %s\" %model.fitness(minimum))\n",
    "\n",
    "print(\"Optimized values are: %s\" %minimum)\n",
    "\n",
    "model.define_model(minimum)\n",
    "\n",
    "model.model_plot()"
   ]
  },
  {
   "cell_type": "code",
   "execution_count": null,
   "id": "3472191e",
   "metadata": {},
   "outputs": [],
   "source": []
  }
 ],
 "metadata": {
  "kernelspec": {
   "display_name": "Python 3 (ipykernel)",
   "language": "python",
   "name": "python3"
  },
  "language_info": {
   "codemirror_mode": {
    "name": "ipython",
    "version": 3
   },
   "file_extension": ".py",
   "mimetype": "text/x-python",
   "name": "python",
   "nbconvert_exporter": "python",
   "pygments_lexer": "ipython3",
   "version": "3.8.12"
  }
 },
 "nbformat": 4,
 "nbformat_minor": 5
}
