{
 "cells": [
  {
   "cell_type": "code",
   "execution_count": 1,
   "id": "08dbc95f",
   "metadata": {},
   "outputs": [],
   "source": [
    "import create_model\n",
    "import numpy as np\n",
    "import os\n",
    "# Change simulation parameters here\n",
    "temperature = 25  # in degC, valid values: 0, 10, 25\n",
    "crate = 1         # valid values: 0.5, 1, 2\n",
    "cell_selected = [\"789\"]   # select the cell to optimize\n",
    "model=create_model.model_build(temperature, crate, cell_selected)"
   ]
  },
  {
   "cell_type": "code",
   "execution_count": 2,
   "id": "889c7e1e",
   "metadata": {},
   "outputs": [],
   "source": [
    "from scipy import optimize\n",
    "x0 =np.array([5e-14,6.48e-7,20,2.85e3]) # Initial values of parameters\n",
    "# Create bounds\n",
    "#max_bound = np.array([ 2.06e-12, 2.18589831e-5,1000,2.85e6])\n",
    "#min_bound = np.array([ 2.06e-16, 2.18589831e-9,0.1,2.85])\n",
    "\n",
    "#bounds of the variables as (min,max) {This might need adjustment according to the optimization method.}\n",
    "bounds = [(2.06e-16,2.06e-12),(2.18589831e-9,2.18589831e-5),(0.1,1000),(2.85, 2.85e6)] \n",
    "\n",
    "\n",
    "#model.fitness(x0) #initial value of the function"
   ]
  },
  {
   "cell_type": "code",
   "execution_count": null,
   "id": "c705e88a",
   "metadata": {},
   "outputs": [],
   "source": [
    "def maplike_fun(func, iterable):\n",
    "    # x.shape == (S, N), where S is the size of the population and N\n",
    "    # is the number of parameters. This is where you'd call out from\n",
    "    # Python to COMSOL, instead of the following line.\n",
    "    return func(iterable.T)"
   ]
  },
  {
   "cell_type": "code",
   "execution_count": null,
   "id": "81759641",
   "metadata": {},
   "outputs": [],
   "source": [
    "from scipy import optimize\n",
    "minimum=optimize.differential_evolution(model.fitness, bounds, x0=x0, workers=maplike_fun, polish=False, updating='deferred')"
   ]
  },
  {
   "cell_type": "code",
   "execution_count": 3,
   "id": "b73f0536",
   "metadata": {},
   "outputs": [
    {
     "name": "stdout",
     "output_type": "stream",
     "text": [
      "CPU times: user 2 µs, sys: 1 µs, total: 3 µs\n",
      "Wall time: 5.01 µs\n"
     ]
    },
    {
     "ename": "ModelError",
     "evalue": "model is underdetermined (too many variables)",
     "output_type": "error",
     "traceback": [
      "\u001b[0;31m---------------------------------------------------------------------------\u001b[0m",
      "\u001b[0;31mRemoteTraceback\u001b[0m                           Traceback (most recent call last)",
      "\u001b[0;31mRemoteTraceback\u001b[0m: \n\"\"\"\nTraceback (most recent call last):\n  File \"/opt/local/Library/Frameworks/Python.framework/Versions/3.9/lib/python3.9/multiprocessing/pool.py\", line 125, in worker\n    result = (True, func(*args, **kwds))\n  File \"/opt/local/Library/Frameworks/Python.framework/Versions/3.9/lib/python3.9/multiprocessing/pool.py\", line 48, in mapstar\n    return list(map(*args))\n  File \"/opt/local/Library/Frameworks/Python.framework/Versions/3.9/lib/python3.9/site-packages/scipy/optimize/_differentialevolution.py\", line 1346, in __call__\n    return self.f(x, *self.args)\n  File \"/Users/muhammedsogut/Downloads/Pybamm-main-3/create_model.py\", line 174, in fitness\n    self.simulation.solve(inputs={\"Negative electrode diffusivity [m2.s-1]\": x[0],\n  File \"/Users/muhammedsogut/Library/Python/3.9/lib/python/site-packages/pybamm/simulation.py\", line 806, in solve\n    self.build_for_experiment(check_model=check_model)\n  File \"/Users/muhammedsogut/Library/Python/3.9/lib/python/site-packages/pybamm/simulation.py\", line 623, in build_for_experiment\n    built_model = self._disc.process_model(\n  File \"/Users/muhammedsogut/Library/Python/3.9/lib/python/site-packages/pybamm/discretisations/discretisation.py\", line 147, in process_model\n    model.check_well_posedness()\n  File \"/Users/muhammedsogut/Library/Python/3.9/lib/python/site-packages/pybamm/models/base_model.py\", line 555, in check_well_posedness\n    self.check_well_determined(post_discretisation)\n  File \"/Users/muhammedsogut/Library/Python/3.9/lib/python/site-packages/pybamm/models/base_model.py\", line 671, in check_well_determined\n    raise pybamm.ModelError(\"model is underdetermined (too many variables)\")\npybamm.expression_tree.exceptions.ModelError: model is underdetermined (too many variables)\n\"\"\"",
      "\nThe above exception was the direct cause of the following exception:\n",
      "\u001b[0;31mModelError\u001b[0m                                Traceback (most recent call last)",
      "\u001b[0;32m/var/folders/gr/z6l2h7kd4136nf0xqdtls40w0000gn/T/ipykernel_9920/2520217198.py\u001b[0m in \u001b[0;36m<module>\u001b[0;34m\u001b[0m\n\u001b[1;32m      3\u001b[0m \u001b[0;32mimport\u001b[0m \u001b[0mmultiprocessing\u001b[0m \u001b[0;32mas\u001b[0m \u001b[0mmp\u001b[0m\u001b[0;34m\u001b[0m\u001b[0;34m\u001b[0m\u001b[0m\n\u001b[1;32m      4\u001b[0m \u001b[0mpool\u001b[0m \u001b[0;34m=\u001b[0m \u001b[0mmp\u001b[0m\u001b[0;34m.\u001b[0m\u001b[0mPool\u001b[0m\u001b[0;34m(\u001b[0m\u001b[0;36m4\u001b[0m\u001b[0;34m)\u001b[0m\u001b[0;34m\u001b[0m\u001b[0;34m\u001b[0m\u001b[0m\n\u001b[0;32m----> 5\u001b[0;31m \u001b[0mminimum\u001b[0m \u001b[0;34m=\u001b[0m \u001b[0moptimize\u001b[0m\u001b[0;34m.\u001b[0m\u001b[0mdifferential_evolution\u001b[0m\u001b[0;34m(\u001b[0m\u001b[0mmodel\u001b[0m\u001b[0;34m.\u001b[0m\u001b[0mfitness\u001b[0m\u001b[0;34m,\u001b[0m \u001b[0mbounds\u001b[0m\u001b[0;34m,\u001b[0m \u001b[0mx0\u001b[0m\u001b[0;34m=\u001b[0m\u001b[0mx0\u001b[0m\u001b[0;34m,\u001b[0m \u001b[0mworkers\u001b[0m\u001b[0;34m=\u001b[0m\u001b[0;34m-\u001b[0m\u001b[0;36m1\u001b[0m\u001b[0;34m,\u001b[0m \u001b[0mupdating\u001b[0m\u001b[0;34m=\u001b[0m\u001b[0;34m'deferred'\u001b[0m\u001b[0;34m)\u001b[0m\u001b[0;34m\u001b[0m\u001b[0;34m\u001b[0m\u001b[0m\n\u001b[0m",
      "\u001b[0;32m/opt/local/Library/Frameworks/Python.framework/Versions/3.9/lib/python3.9/site-packages/scipy/optimize/_differentialevolution.py\u001b[0m in \u001b[0;36mdifferential_evolution\u001b[0;34m(func, bounds, args, strategy, maxiter, popsize, tol, mutation, recombination, seed, callback, disp, polish, init, atol, updating, workers, constraints, x0)\u001b[0m\n\u001b[1;32m    327\u001b[0m                                      \u001b[0mconstraints\u001b[0m\u001b[0;34m=\u001b[0m\u001b[0mconstraints\u001b[0m\u001b[0;34m,\u001b[0m\u001b[0;34m\u001b[0m\u001b[0;34m\u001b[0m\u001b[0m\n\u001b[1;32m    328\u001b[0m                                      x0=x0) as solver:\n\u001b[0;32m--> 329\u001b[0;31m         \u001b[0mret\u001b[0m \u001b[0;34m=\u001b[0m \u001b[0msolver\u001b[0m\u001b[0;34m.\u001b[0m\u001b[0msolve\u001b[0m\u001b[0;34m(\u001b[0m\u001b[0;34m)\u001b[0m\u001b[0;34m\u001b[0m\u001b[0;34m\u001b[0m\u001b[0m\n\u001b[0m\u001b[1;32m    330\u001b[0m \u001b[0;34m\u001b[0m\u001b[0m\n\u001b[1;32m    331\u001b[0m     \u001b[0;32mreturn\u001b[0m \u001b[0mret\u001b[0m\u001b[0;34m\u001b[0m\u001b[0;34m\u001b[0m\u001b[0m\n",
      "\u001b[0;32m/opt/local/Library/Frameworks/Python.framework/Versions/3.9/lib/python3.9/site-packages/scipy/optimize/_differentialevolution.py\u001b[0m in \u001b[0;36msolve\u001b[0;34m(self)\u001b[0m\n\u001b[1;32m    841\u001b[0m             \u001b[0;31m# only work out population energies for feasible solutions\u001b[0m\u001b[0;34m\u001b[0m\u001b[0;34m\u001b[0m\u001b[0m\n\u001b[1;32m    842\u001b[0m             self.population_energies[self.feasible] = (\n\u001b[0;32m--> 843\u001b[0;31m                 self._calculate_population_energies(\n\u001b[0m\u001b[1;32m    844\u001b[0m                     self.population[self.feasible]))\n\u001b[1;32m    845\u001b[0m \u001b[0;34m\u001b[0m\u001b[0m\n",
      "\u001b[0;32m/opt/local/Library/Frameworks/Python.framework/Versions/3.9/lib/python3.9/site-packages/scipy/optimize/_differentialevolution.py\u001b[0m in \u001b[0;36m_calculate_population_energies\u001b[0;34m(self, population)\u001b[0m\n\u001b[1;32m    964\u001b[0m         \u001b[0mparameters_pop\u001b[0m \u001b[0;34m=\u001b[0m \u001b[0mself\u001b[0m\u001b[0;34m.\u001b[0m\u001b[0m_scale_parameters\u001b[0m\u001b[0;34m(\u001b[0m\u001b[0mpopulation\u001b[0m\u001b[0;34m)\u001b[0m\u001b[0;34m\u001b[0m\u001b[0;34m\u001b[0m\u001b[0m\n\u001b[1;32m    965\u001b[0m         \u001b[0;32mtry\u001b[0m\u001b[0;34m:\u001b[0m\u001b[0;34m\u001b[0m\u001b[0;34m\u001b[0m\u001b[0m\n\u001b[0;32m--> 966\u001b[0;31m             calc_energies = list(self._mapwrapper(self.func,\n\u001b[0m\u001b[1;32m    967\u001b[0m                                                   parameters_pop[0:nfevs]))\n\u001b[1;32m    968\u001b[0m             \u001b[0menergies\u001b[0m\u001b[0;34m[\u001b[0m\u001b[0;36m0\u001b[0m\u001b[0;34m:\u001b[0m\u001b[0mnfevs\u001b[0m\u001b[0;34m]\u001b[0m \u001b[0;34m=\u001b[0m \u001b[0mnp\u001b[0m\u001b[0;34m.\u001b[0m\u001b[0msqueeze\u001b[0m\u001b[0;34m(\u001b[0m\u001b[0mcalc_energies\u001b[0m\u001b[0;34m)\u001b[0m\u001b[0;34m\u001b[0m\u001b[0;34m\u001b[0m\u001b[0m\n",
      "\u001b[0;32m/opt/local/Library/Frameworks/Python.framework/Versions/3.9/lib/python3.9/site-packages/scipy/_lib/_util.py\u001b[0m in \u001b[0;36m__call__\u001b[0;34m(self, func, iterable)\u001b[0m\n\u001b[1;32m    469\u001b[0m         \u001b[0;31m# only accept one iterable because that's all Pool.map accepts\u001b[0m\u001b[0;34m\u001b[0m\u001b[0;34m\u001b[0m\u001b[0m\n\u001b[1;32m    470\u001b[0m         \u001b[0;32mtry\u001b[0m\u001b[0;34m:\u001b[0m\u001b[0;34m\u001b[0m\u001b[0;34m\u001b[0m\u001b[0m\n\u001b[0;32m--> 471\u001b[0;31m             \u001b[0;32mreturn\u001b[0m \u001b[0mself\u001b[0m\u001b[0;34m.\u001b[0m\u001b[0m_mapfunc\u001b[0m\u001b[0;34m(\u001b[0m\u001b[0mfunc\u001b[0m\u001b[0;34m,\u001b[0m \u001b[0miterable\u001b[0m\u001b[0;34m)\u001b[0m\u001b[0;34m\u001b[0m\u001b[0;34m\u001b[0m\u001b[0m\n\u001b[0m\u001b[1;32m    472\u001b[0m         \u001b[0;32mexcept\u001b[0m \u001b[0mTypeError\u001b[0m \u001b[0;32mas\u001b[0m \u001b[0me\u001b[0m\u001b[0;34m:\u001b[0m\u001b[0;34m\u001b[0m\u001b[0;34m\u001b[0m\u001b[0m\n\u001b[1;32m    473\u001b[0m             \u001b[0;31m# wrong number of arguments\u001b[0m\u001b[0;34m\u001b[0m\u001b[0;34m\u001b[0m\u001b[0m\n",
      "\u001b[0;32m/opt/local/Library/Frameworks/Python.framework/Versions/3.9/lib/python3.9/multiprocessing/pool.py\u001b[0m in \u001b[0;36mmap\u001b[0;34m(self, func, iterable, chunksize)\u001b[0m\n\u001b[1;32m    362\u001b[0m         \u001b[0;32min\u001b[0m \u001b[0ma\u001b[0m \u001b[0mlist\u001b[0m \u001b[0mthat\u001b[0m \u001b[0;32mis\u001b[0m \u001b[0mreturned\u001b[0m\u001b[0;34m.\u001b[0m\u001b[0;34m\u001b[0m\u001b[0;34m\u001b[0m\u001b[0m\n\u001b[1;32m    363\u001b[0m         '''\n\u001b[0;32m--> 364\u001b[0;31m         \u001b[0;32mreturn\u001b[0m \u001b[0mself\u001b[0m\u001b[0;34m.\u001b[0m\u001b[0m_map_async\u001b[0m\u001b[0;34m(\u001b[0m\u001b[0mfunc\u001b[0m\u001b[0;34m,\u001b[0m \u001b[0miterable\u001b[0m\u001b[0;34m,\u001b[0m \u001b[0mmapstar\u001b[0m\u001b[0;34m,\u001b[0m \u001b[0mchunksize\u001b[0m\u001b[0;34m)\u001b[0m\u001b[0;34m.\u001b[0m\u001b[0mget\u001b[0m\u001b[0;34m(\u001b[0m\u001b[0;34m)\u001b[0m\u001b[0;34m\u001b[0m\u001b[0;34m\u001b[0m\u001b[0m\n\u001b[0m\u001b[1;32m    365\u001b[0m \u001b[0;34m\u001b[0m\u001b[0m\n\u001b[1;32m    366\u001b[0m     \u001b[0;32mdef\u001b[0m \u001b[0mstarmap\u001b[0m\u001b[0;34m(\u001b[0m\u001b[0mself\u001b[0m\u001b[0;34m,\u001b[0m \u001b[0mfunc\u001b[0m\u001b[0;34m,\u001b[0m \u001b[0miterable\u001b[0m\u001b[0;34m,\u001b[0m \u001b[0mchunksize\u001b[0m\u001b[0;34m=\u001b[0m\u001b[0;32mNone\u001b[0m\u001b[0;34m)\u001b[0m\u001b[0;34m:\u001b[0m\u001b[0;34m\u001b[0m\u001b[0;34m\u001b[0m\u001b[0m\n",
      "\u001b[0;32m/opt/local/Library/Frameworks/Python.framework/Versions/3.9/lib/python3.9/multiprocessing/pool.py\u001b[0m in \u001b[0;36mget\u001b[0;34m(self, timeout)\u001b[0m\n\u001b[1;32m    769\u001b[0m             \u001b[0;32mreturn\u001b[0m \u001b[0mself\u001b[0m\u001b[0;34m.\u001b[0m\u001b[0m_value\u001b[0m\u001b[0;34m\u001b[0m\u001b[0;34m\u001b[0m\u001b[0m\n\u001b[1;32m    770\u001b[0m         \u001b[0;32melse\u001b[0m\u001b[0;34m:\u001b[0m\u001b[0;34m\u001b[0m\u001b[0;34m\u001b[0m\u001b[0m\n\u001b[0;32m--> 771\u001b[0;31m             \u001b[0;32mraise\u001b[0m \u001b[0mself\u001b[0m\u001b[0;34m.\u001b[0m\u001b[0m_value\u001b[0m\u001b[0;34m\u001b[0m\u001b[0;34m\u001b[0m\u001b[0m\n\u001b[0m\u001b[1;32m    772\u001b[0m \u001b[0;34m\u001b[0m\u001b[0m\n\u001b[1;32m    773\u001b[0m     \u001b[0;32mdef\u001b[0m \u001b[0m_set\u001b[0m\u001b[0;34m(\u001b[0m\u001b[0mself\u001b[0m\u001b[0;34m,\u001b[0m \u001b[0mi\u001b[0m\u001b[0;34m,\u001b[0m \u001b[0mobj\u001b[0m\u001b[0;34m)\u001b[0m\u001b[0;34m:\u001b[0m\u001b[0;34m\u001b[0m\u001b[0;34m\u001b[0m\u001b[0m\n",
      "\u001b[0;31mModelError\u001b[0m: model is underdetermined (too many variables)"
     ]
    }
   ],
   "source": [
    "%time # time the solver\n",
    "from scipy import optimize\n",
    "import multiprocessing as mp\n",
    "pool = mp.Pool(4)\n",
    "minimum = optimize.differential_evolution(model.fitness, bounds, x0=x0, workers=-1, updating='deferred')"
   ]
  },
  {
   "cell_type": "code",
   "execution_count": null,
   "id": "5d09b32c",
   "metadata": {},
   "outputs": [],
   "source": [
    "minimum"
   ]
  },
  {
   "cell_type": "code",
   "execution_count": null,
   "id": "340aba74",
   "metadata": {},
   "outputs": [],
   "source": [
    "#print(\"Initial function value: %s\" %model.fitness(x0))\n",
    "\n",
    "#print(\"Optimized function value: %s\" %model.fitness(minimum.x))\n",
    "\n",
    "#print(\"Optimized values are: %s\" %minimum.x)\n",
    "\n",
    "model.define_model(minimum.x)\n",
    "\n",
    "model.model_plot()"
   ]
  },
  {
   "cell_type": "code",
   "execution_count": null,
   "id": "c1b04d31",
   "metadata": {},
   "outputs": [],
   "source": [
    "import time\n",
    "from scipy import optimize\n",
    "print(\"start optimization\")\n",
    "start = time.process_time()\n",
    "print(start)\n",
    "minimum = optimize.differential_evolution(model.fitness, bounds, x0=x0, workers=-1, updating='deferred', polish=False)\n",
    "end = time.process_time()\n",
    "print(end)\n",
    "print(end - start)\n",
    "print(\"end optimization\")"
   ]
  },
  {
   "cell_type": "code",
   "execution_count": null,
   "id": "c06f474e",
   "metadata": {},
   "outputs": [],
   "source": [
    "import time\n",
    "from scipy import optimize\n",
    "print(\"start optimization\")\n",
    "start = time.process_time()\n",
    "print(start)\n",
    "minimum = optimize.differential_evolution(model.fitness, bounds, x0=x0)\n",
    "end = time.process_time()\n",
    "print(end)\n",
    "print(end - start)\n",
    "print(\"end optimization\")"
   ]
  },
  {
   "cell_type": "code",
   "execution_count": null,
   "id": "70c45c23",
   "metadata": {},
   "outputs": [],
   "source": [
    "\n",
    "param_optimised=list(param_optimised)\n",
    "for index,item in enumerate(param_optimised):\n",
    "    #param_optimised.remove(item)\n",
    "    if item == str('Negative electrode exchange-current density [A.m-2]'):\n",
    "        param_optimised[index]= 'Negative electrode exchange-current density [A.m-2] : j0_neg'\n",
    "        #param_optimised.add(item)\n",
    "    else :\n",
    "        param_optimised[index] = str(item) + str(' : \"[input]\"')\n",
    "        #param_optimised.add(item)\n"
   ]
  },
  {
   "cell_type": "code",
   "execution_count": null,
   "id": "af0f3d32",
   "metadata": {},
   "outputs": [],
   "source": [
    "param_optimised"
   ]
  },
  {
   "cell_type": "code",
   "execution_count": null,
   "id": "609b84dc",
   "metadata": {},
   "outputs": [],
   "source": [
    "for item in param_optimised:\n",
    "    print(item)"
   ]
  },
  {
   "cell_type": "code",
   "execution_count": null,
   "id": "45603957",
   "metadata": {},
   "outputs": [],
   "source": [
    "str('Negative electrode exchange-current density [A.m-2]')"
   ]
  },
  {
   "cell_type": "code",
   "execution_count": null,
   "id": "4d2a0daf",
   "metadata": {},
   "outputs": [],
   "source": [
    "set(param_optimised)"
   ]
  },
  {
   "cell_type": "code",
   "execution_count": null,
   "id": "712de22d",
   "metadata": {},
   "outputs": [],
   "source": [
    "import pybamm\n",
    "pybamm.ParameterValues(chemistry=pybamm.parameter_sets.Chen2020)"
   ]
  },
  {
   "cell_type": "code",
   "execution_count": null,
   "id": "c5f8358f",
   "metadata": {},
   "outputs": [],
   "source": []
  }
 ],
 "metadata": {
  "kernelspec": {
   "display_name": "Python 3 (ipykernel)",
   "language": "python",
   "name": "python3"
  },
  "language_info": {
   "codemirror_mode": {
    "name": "ipython",
    "version": 3
   },
   "file_extension": ".py",
   "mimetype": "text/x-python",
   "name": "python",
   "nbconvert_exporter": "python",
   "pygments_lexer": "ipython3",
   "version": "3.9.10"
  }
 },
 "nbformat": 4,
 "nbformat_minor": 5
}
