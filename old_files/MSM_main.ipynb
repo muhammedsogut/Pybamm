{
 "cells": [
  {
   "cell_type": "code",
   "execution_count": 2,
   "id": "6648d8ea",
   "metadata": {},
   "outputs": [],
   "source": [
    "import pybamm\n",
    "import numpy as np\n",
    "import pandas as pd\n",
    "import os\n",
    "from matplotlib import pyplot as plt"
   ]
  },
  {
   "cell_type": "code",
   "execution_count": 3,
   "id": "4ee53c89",
   "metadata": {},
   "outputs": [],
   "source": [
    "import process_experimental_data"
   ]
  },
  {
   "cell_type": "code",
   "execution_count": 4,
   "id": "c3552e67",
   "metadata": {},
   "outputs": [],
   "source": [
    "dataset_all=process_experimental_data.import_thermal_data(1,25)\n",
    "dataset=pd.DataFrame(dataset_all['791'])\n",
    "#process_experimental_data.clean_dataset(dataset)"
   ]
  },
  {
   "cell_type": "code",
   "execution_count": 30,
   "id": "b2789b4a",
   "metadata": {
    "scrolled": true
   },
   "outputs": [
    {
     "data": {
      "text/plain": [
       "[<matplotlib.lines.Line2D at 0x1378ab250>]"
      ]
     },
     "execution_count": 30,
     "metadata": {},
     "output_type": "execute_result"
    },
    {
     "data": {
      "image/png": "[encoded data removed]",
      "text/plain": [
       "<Figure size 432x288 with 1 Axes>"
      ]
     },
     "metadata": {
      "needs_background": "light"
     },
     "output_type": "display_data"
    }
   ],
   "source": [
    "plt.plot(dataset['Current [A]'])"
   ]
  },
  {
   "cell_type": "code",
   "execution_count": 41,
   "id": "adc389b8",
   "metadata": {},
   "outputs": [
    {
     "data": {
      "text/html": [
       "<div>\n",
       "<style scoped>\n",
       "    .dataframe tbody tr th:only-of-type {\n",
       "        vertical-align: middle;\n",
       "    }\n",
       "\n",
       "    .dataframe tbody tr th {\n",
       "        vertical-align: top;\n",
       "    }\n",
       "\n",
       "    .dataframe thead th {\n",
       "        text-align: right;\n",
       "    }\n",
       "</style>\n",
       "<table border=\"1\" class=\"dataframe\">\n",
       "  <thead>\n",
       "    <tr style=\"text-align: right;\">\n",
       "      <th></th>\n",
       "      <th>Step</th>\n",
       "      <th>Status</th>\n",
       "      <th>Step Time [s]</th>\n",
       "      <th>Time [s]</th>\n",
       "      <th>Cycle</th>\n",
       "      <th>Cycle Level</th>\n",
       "      <th>Procedure</th>\n",
       "      <th>Voltage [V]</th>\n",
       "      <th>Current [A]</th>\n",
       "      <th>AhAccu [Ah]</th>\n",
       "      <th>AhPrev [Ah]</th>\n",
       "      <th>WhAccu [Wh]</th>\n",
       "      <th>Watt [W]</th>\n",
       "      <th>Temp Cell [degC]</th>\n",
       "    </tr>\n",
       "  </thead>\n",
       "  <tbody>\n",
       "    <tr>\n",
       "      <th>7760</th>\n",
       "      <td>9</td>\n",
       "      <td>PAU</td>\n",
       "      <td>7200.101</td>\n",
       "      <td>14894.177</td>\n",
       "      <td>1</td>\n",
       "      <td>1</td>\n",
       "      <td>MSM_Rate_1C</td>\n",
       "      <td>4.17895</td>\n",
       "      <td>0.00000</td>\n",
       "      <td>0.0811</td>\n",
       "      <td>0.08110</td>\n",
       "      <td>0.34060</td>\n",
       "      <td>0.00000</td>\n",
       "      <td>24.5</td>\n",
       "    </tr>\n",
       "    <tr>\n",
       "      <th>7761</th>\n",
       "      <td>10</td>\n",
       "      <td>RANGE</td>\n",
       "      <td>0.000</td>\n",
       "      <td>14894.210</td>\n",
       "      <td>1</td>\n",
       "      <td>1</td>\n",
       "      <td>MSM_Rate_1C</td>\n",
       "      <td>4.17907</td>\n",
       "      <td>0.00000</td>\n",
       "      <td>0.0811</td>\n",
       "      <td>0.08110</td>\n",
       "      <td>0.34060</td>\n",
       "      <td>0.00000</td>\n",
       "      <td>24.5</td>\n",
       "    </tr>\n",
       "    <tr>\n",
       "      <th>7762</th>\n",
       "      <td>10</td>\n",
       "      <td>RANGE</td>\n",
       "      <td>0.000</td>\n",
       "      <td>14894.210</td>\n",
       "      <td>1</td>\n",
       "      <td>1</td>\n",
       "      <td>MSM_Rate_1C</td>\n",
       "      <td>4.17907</td>\n",
       "      <td>0.00000</td>\n",
       "      <td>0.0811</td>\n",
       "      <td>0.08110</td>\n",
       "      <td>0.34060</td>\n",
       "      <td>0.00000</td>\n",
       "      <td>24.5</td>\n",
       "    </tr>\n",
       "    <tr>\n",
       "      <th>7763</th>\n",
       "      <td>11</td>\n",
       "      <td>DCH</td>\n",
       "      <td>0.000</td>\n",
       "      <td>14894.211</td>\n",
       "      <td>1</td>\n",
       "      <td>1</td>\n",
       "      <td>MSM_Rate_1C</td>\n",
       "      <td>4.01795</td>\n",
       "      <td>-4.99210</td>\n",
       "      <td>0.0811</td>\n",
       "      <td>0.08110</td>\n",
       "      <td>0.34060</td>\n",
       "      <td>0.00000</td>\n",
       "      <td>24.5</td>\n",
       "    </tr>\n",
       "    <tr>\n",
       "      <th>7764</th>\n",
       "      <td>11</td>\n",
       "      <td>DCH</td>\n",
       "      <td>1.007</td>\n",
       "      <td>14895.218</td>\n",
       "      <td>1</td>\n",
       "      <td>1</td>\n",
       "      <td>MSM_Rate_1C</td>\n",
       "      <td>4.00961</td>\n",
       "      <td>-4.99958</td>\n",
       "      <td>0.0799</td>\n",
       "      <td>0.08110</td>\n",
       "      <td>0.33579</td>\n",
       "      <td>-20.05027</td>\n",
       "      <td>24.5</td>\n",
       "    </tr>\n",
       "    <tr>\n",
       "      <th>...</th>\n",
       "      <td>...</td>\n",
       "      <td>...</td>\n",
       "      <td>...</td>\n",
       "      <td>...</td>\n",
       "      <td>...</td>\n",
       "      <td>...</td>\n",
       "      <td>...</td>\n",
       "      <td>...</td>\n",
       "      <td>...</td>\n",
       "      <td>...</td>\n",
       "      <td>...</td>\n",
       "      <td>...</td>\n",
       "      <td>...</td>\n",
       "      <td>...</td>\n",
       "    </tr>\n",
       "    <tr>\n",
       "      <th>48046</th>\n",
       "      <td>12</td>\n",
       "      <td>PAU</td>\n",
       "      <td>7199.076</td>\n",
       "      <td>54759.939</td>\n",
       "      <td>2</td>\n",
       "      <td>1</td>\n",
       "      <td>MSM_Rate_1C</td>\n",
       "      <td>3.07262</td>\n",
       "      <td>0.00000</td>\n",
       "      <td>-4.7532</td>\n",
       "      <td>4.78759</td>\n",
       "      <td>-14.65354</td>\n",
       "      <td>0.00000</td>\n",
       "      <td>24.3</td>\n",
       "    </tr>\n",
       "    <tr>\n",
       "      <th>48047</th>\n",
       "      <td>12</td>\n",
       "      <td>PAU</td>\n",
       "      <td>7200.061</td>\n",
       "      <td>54760.924</td>\n",
       "      <td>2</td>\n",
       "      <td>1</td>\n",
       "      <td>MSM_Rate_1C</td>\n",
       "      <td>3.07262</td>\n",
       "      <td>0.00000</td>\n",
       "      <td>-4.7532</td>\n",
       "      <td>4.78759</td>\n",
       "      <td>-14.65354</td>\n",
       "      <td>0.00000</td>\n",
       "      <td>24.3</td>\n",
       "    </tr>\n",
       "    <tr>\n",
       "      <th>48048</th>\n",
       "      <td>12</td>\n",
       "      <td>PAU</td>\n",
       "      <td>7200.061</td>\n",
       "      <td>54760.924</td>\n",
       "      <td>2</td>\n",
       "      <td>1</td>\n",
       "      <td>MSM_Rate_1C</td>\n",
       "      <td>3.07273</td>\n",
       "      <td>0.00000</td>\n",
       "      <td>-4.7532</td>\n",
       "      <td>4.78759</td>\n",
       "      <td>-14.65354</td>\n",
       "      <td>0.00000</td>\n",
       "      <td>24.3</td>\n",
       "    </tr>\n",
       "    <tr>\n",
       "      <th>48049</th>\n",
       "      <td>9999</td>\n",
       "      <td>STO</td>\n",
       "      <td>0.000</td>\n",
       "      <td>54760.954</td>\n",
       "      <td>0</td>\n",
       "      <td>0</td>\n",
       "      <td>MSM_Rate_1C</td>\n",
       "      <td>3.07262</td>\n",
       "      <td>0.00000</td>\n",
       "      <td>-4.7532</td>\n",
       "      <td>4.78759</td>\n",
       "      <td>-14.65354</td>\n",
       "      <td>0.00000</td>\n",
       "      <td>24.3</td>\n",
       "    </tr>\n",
       "    <tr>\n",
       "      <th>48050</th>\n",
       "      <td>9999</td>\n",
       "      <td>STO</td>\n",
       "      <td>0.000</td>\n",
       "      <td>54760.954</td>\n",
       "      <td>0</td>\n",
       "      <td>0</td>\n",
       "      <td>MSM_Rate_1C</td>\n",
       "      <td>3.07262</td>\n",
       "      <td>0.00000</td>\n",
       "      <td>-4.7532</td>\n",
       "      <td>4.78759</td>\n",
       "      <td>-14.65354</td>\n",
       "      <td>0.00000</td>\n",
       "      <td>24.3</td>\n",
       "    </tr>\n",
       "  </tbody>\n",
       "</table>\n",
       "<p>40291 rows × 14 columns</p>\n",
       "</div>"
      ],
      "text/plain": [
       "       Step Status  Step Time [s]   Time [s]  Cycle  Cycle Level    Procedure  \\\n",
       "7760      9    PAU       7200.101  14894.177      1            1  MSM_Rate_1C   \n",
       "7761     10  RANGE          0.000  14894.210      1            1  MSM_Rate_1C   \n",
       "7762     10  RANGE          0.000  14894.210      1            1  MSM_Rate_1C   \n",
       "7763     11    DCH          0.000  14894.211      1            1  MSM_Rate_1C   \n",
       "7764     11    DCH          1.007  14895.218      1            1  MSM_Rate_1C   \n",
       "...     ...    ...            ...        ...    ...          ...          ...   \n",
       "48046    12    PAU       7199.076  54759.939      2            1  MSM_Rate_1C   \n",
       "48047    12    PAU       7200.061  54760.924      2            1  MSM_Rate_1C   \n",
       "48048    12    PAU       7200.061  54760.924      2            1  MSM_Rate_1C   \n",
       "48049  9999    STO          0.000  54760.954      0            0  MSM_Rate_1C   \n",
       "48050  9999    STO          0.000  54760.954      0            0  MSM_Rate_1C   \n",
       "\n",
       "       Voltage [V]  Current [A]  AhAccu [Ah]  AhPrev [Ah]  WhAccu [Wh]  \\\n",
       "7760       4.17895      0.00000       0.0811      0.08110      0.34060   \n",
       "7761       4.17907      0.00000       0.0811      0.08110      0.34060   \n",
       "7762       4.17907      0.00000       0.0811      0.08110      0.34060   \n",
       "7763       4.01795     -4.99210       0.0811      0.08110      0.34060   \n",
       "7764       4.00961     -4.99958       0.0799      0.08110      0.33579   \n",
       "...            ...          ...          ...          ...          ...   \n",
       "48046      3.07262      0.00000      -4.7532      4.78759    -14.65354   \n",
       "48047      3.07262      0.00000      -4.7532      4.78759    -14.65354   \n",
       "48048      3.07273      0.00000      -4.7532      4.78759    -14.65354   \n",
       "48049      3.07262      0.00000      -4.7532      4.78759    -14.65354   \n",
       "48050      3.07262      0.00000      -4.7532      4.78759    -14.65354   \n",
       "\n",
       "       Watt [W]  Temp Cell [degC]  \n",
       "7760    0.00000              24.5  \n",
       "7761    0.00000              24.5  \n",
       "7762    0.00000              24.5  \n",
       "7763    0.00000              24.5  \n",
       "7764  -20.05027              24.5  \n",
       "...         ...               ...  \n",
       "48046   0.00000              24.3  \n",
       "48047   0.00000              24.3  \n",
       "48048   0.00000              24.3  \n",
       "48049   0.00000              24.3  \n",
       "48050   0.00000              24.3  \n",
       "\n",
       "[40291 rows x 14 columns]"
      ]
     },
     "execution_count": 41,
     "metadata": {},
     "output_type": "execute_result"
    }
   ],
   "source": [
    "dataset[7760:]"
   ]
  },
  {
   "cell_type": "code",
   "execution_count": 50,
   "id": "9d362cf1",
   "metadata": {},
   "outputs": [
    {
     "data": {
      "text/html": [
       "<div>\n",
       "<style scoped>\n",
       "    .dataframe tbody tr th:only-of-type {\n",
       "        vertical-align: middle;\n",
       "    }\n",
       "\n",
       "    .dataframe tbody tr th {\n",
       "        vertical-align: top;\n",
       "    }\n",
       "\n",
       "    .dataframe thead th {\n",
       "        text-align: right;\n",
       "    }\n",
       "</style>\n",
       "<table border=\"1\" class=\"dataframe\">\n",
       "  <thead>\n",
       "    <tr style=\"text-align: right;\">\n",
       "      <th></th>\n",
       "      <th>Step</th>\n",
       "      <th>Status</th>\n",
       "      <th>Step Time [s]</th>\n",
       "      <th>Time [s]</th>\n",
       "      <th>Cycle</th>\n",
       "      <th>Cycle Level</th>\n",
       "      <th>Procedure</th>\n",
       "      <th>Voltage [V]</th>\n",
       "      <th>Current [A]</th>\n",
       "      <th>AhAccu [Ah]</th>\n",
       "      <th>AhPrev [Ah]</th>\n",
       "      <th>WhAccu [Wh]</th>\n",
       "      <th>Watt [W]</th>\n",
       "      <th>Temp Cell [degC]</th>\n",
       "    </tr>\n",
       "  </thead>\n",
       "  <tbody>\n",
       "  </tbody>\n",
       "</table>\n",
       "</div>"
      ],
      "text/plain": [
       "Empty DataFrame\n",
       "Columns: [Step, Status, Step Time [s], Time [s], Cycle, Cycle Level, Procedure, Voltage [V], Current [A], AhAccu [Ah], AhPrev [Ah], WhAccu [Wh], Watt [W], Temp Cell [degC]]\n",
       "Index: []"
      ]
     },
     "execution_count": 50,
     "metadata": {},
     "output_type": "execute_result"
    }
   ],
   "source": [
    "dataset.query('Status == [\"DHC\"]')"
   ]
  },
  {
   "cell_type": "code",
   "execution_count": 18,
   "id": "48c84375",
   "metadata": {},
   "outputs": [
    {
     "data": {
      "image/png": "[encoded data removed]",
      "text/plain": [
       "<Figure size 432x288 with 1 Axes>"
      ]
     },
     "metadata": {
      "needs_background": "light"
     },
     "output_type": "display_data"
    }
   ],
   "source": [
    "plt.plot(dataset['Time [s]'] , dataset['Voltage [V]'], dataset['Time [s]'], dataset['Current [A]'])\n",
    "plt.grid()"
   ]
  },
  {
   "cell_type": "code",
   "execution_count": 7,
   "id": "508a28c9",
   "metadata": {},
   "outputs": [],
   "source": [
    "model= pybamm.lithium_ion.DFN()"
   ]
  },
  {
   "cell_type": "code",
   "execution_count": 8,
   "id": "3945ec6b",
   "metadata": {},
   "outputs": [],
   "source": [
    "param = pybamm.ParameterValues(\"Chen2020\")\n",
    "#param"
   ]
  },
  {
   "cell_type": "code",
   "execution_count": 19,
   "id": "84b379d8",
   "metadata": {},
   "outputs": [
    {
     "data": {
      "application/vnd.jupyter.widget-view+json": {
       "model_id": "75a55413a77d477d9fac68a6d6fd5ccb",
       "version_major": 2,
       "version_minor": 0
      },
      "text/plain": [
       "interactive(children=(FloatSlider(value=0.0, description='t', max=3554.1816827290813, step=35.541816827290816)…"
      ]
     },
     "metadata": {},
     "output_type": "display_data"
    },
    {
     "data": {
      "text/plain": [
       "<pybamm.plotting.quick_plot.QuickPlot at 0x136686580>"
      ]
     },
     "execution_count": 19,
     "metadata": {},
     "output_type": "execute_result"
    }
   ],
   "source": [
    "sim = pybamm.Simulation(model, parameter_values=param)\n",
    "sim.solve([0, 4000])\n",
    "sim.plot([\"Terminal voltage [V]\"])"
   ]
  },
  {
   "cell_type": "code",
   "execution_count": 20,
   "id": "ec95aa8b",
   "metadata": {},
   "outputs": [
    {
     "data": {
      "text/plain": [
       "array([4.03250458, 3.9494523 , 3.9337335 , 3.92829811, 3.92355907,\n",
       "       3.91710344, 3.9083754 , 3.8978256 , 3.88617945, 3.87407965,\n",
       "       3.86198622, 3.85020597, 3.83890124, 3.82814595, 3.81793285,\n",
       "       3.80820306, 3.79883536, 3.78966866, 3.78053579, 3.77131542,\n",
       "       3.76193988, 3.75237351, 3.74259109, 3.73256753, 3.7222722 ,\n",
       "       3.71167021, 3.70071889, 3.68937842, 3.67761255, 3.66540319,\n",
       "       3.65277644, 3.63985547, 3.6268968 , 3.61422214, 3.60207166,\n",
       "       3.59054849, 3.57966771, 3.56940612, 3.55972724, 3.55058372,\n",
       "       3.54191817, 3.53366214, 3.52574108, 3.51807753, 3.51059699,\n",
       "       3.50323139, 3.49592186, 3.48861955, 3.48128466, 3.47388516,\n",
       "       3.46639495, 3.45879197, 3.45105663, 3.44317058, 3.43511479,\n",
       "       3.42686971, 3.41841206, 3.40971609, 3.40075019, 3.39147902,\n",
       "       3.38186375, 3.3718698 , 3.36148013, 3.35071931, 3.33967291,\n",
       "       3.32848712, 3.31732397, 3.30629907, 3.29542785, 3.28461511,\n",
       "       3.27368353, 3.2624117 , 3.25055679, 3.23783489, 3.22386209,\n",
       "       3.20802998, 3.18927587, 3.16584921, 3.13595633, 3.09996477,\n",
       "       3.06086646, 3.0215788 , 2.98262545, 2.94182662, 2.89497478,\n",
       "       2.83617376, 2.7575583 , 2.6484393 , 2.50000026])"
      ]
     },
     "execution_count": 20,
     "metadata": {},
     "output_type": "execute_result"
    }
   ],
   "source": [
    "sim.solution[\"Terminal voltage [V]\"].entries"
   ]
  },
  {
   "cell_type": "code",
   "execution_count": 21,
   "id": "cfa037ad",
   "metadata": {},
   "outputs": [
    {
     "data": {
      "text/plain": [
       "array([   0.        ,   40.4040404 ,   80.80808081,  121.21212121,\n",
       "        161.61616162,  202.02020202,  242.42424242,  282.82828283,\n",
       "        323.23232323,  363.63636364,  404.04040404,  444.44444444,\n",
       "        484.84848485,  525.25252525,  565.65656566,  606.06060606,\n",
       "        646.46464646,  686.86868687,  727.27272727,  767.67676768,\n",
       "        808.08080808,  848.48484848,  888.88888889,  929.29292929,\n",
       "        969.6969697 , 1010.1010101 , 1050.50505051, 1090.90909091,\n",
       "       1131.31313131, 1171.71717172, 1212.12121212, 1252.52525253,\n",
       "       1292.92929293, 1333.33333333, 1373.73737374, 1414.14141414,\n",
       "       1454.54545455, 1494.94949495, 1535.35353535, 1575.75757576,\n",
       "       1616.16161616, 1656.56565657, 1696.96969697, 1737.37373737,\n",
       "       1777.77777778, 1818.18181818, 1858.58585859, 1898.98989899,\n",
       "       1939.39393939, 1979.7979798 , 2020.2020202 , 2060.60606061,\n",
       "       2101.01010101, 2141.41414141, 2181.81818182, 2222.22222222,\n",
       "       2262.62626263, 2303.03030303, 2343.43434343, 2383.83838384,\n",
       "       2424.24242424, 2464.64646465, 2505.05050505, 2545.45454545,\n",
       "       2585.85858586, 2626.26262626, 2666.66666667, 2707.07070707,\n",
       "       2747.47474747, 2787.87878788, 2828.28282828, 2868.68686869,\n",
       "       2909.09090909, 2949.49494949, 2989.8989899 , 3030.3030303 ,\n",
       "       3070.70707071, 3111.11111111, 3151.51515152, 3191.91919192,\n",
       "       3232.32323232, 3272.72727273, 3313.13131313, 3353.53535354,\n",
       "       3393.93939394, 3434.34343434, 3474.74747475, 3515.15151515,\n",
       "       3554.18168273])"
      ]
     },
     "execution_count": 21,
     "metadata": {},
     "output_type": "execute_result"
    }
   ],
   "source": [
    "sim.solution[\"Time [s]\"].entries"
   ]
  },
  {
   "cell_type": "code",
   "execution_count": 29,
   "id": "b38033d3",
   "metadata": {},
   "outputs": [
    {
     "data": {
      "image/png": "[encoded data removed]",
      "text/plain": [
       "<Figure size 432x288 with 1 Axes>"
      ]
     },
     "metadata": {
      "needs_background": "light"
     },
     "output_type": "display_data"
    }
   ],
   "source": [
    "plt.plot(dataset['Time [s]'] , dataset['Voltage [V]'], sim.solution[\"Time [s]\"].entries, sim.solution[\"Terminal voltage [V]\"].entries)\n",
    "plt.grid()"
   ]
  },
  {
   "cell_type": "code",
   "execution_count": null,
   "id": "bcc6356e",
   "metadata": {},
   "outputs": [],
   "source": []
  }
 ],
 "metadata": {
  "kernelspec": {
   "display_name": "Python 3 (ipykernel)",
   "language": "python",
   "name": "python3"
  },
  "language_info": {
   "codemirror_mode": {
    "name": "ipython",
    "version": 3
   },
   "file_extension": ".py",
   "mimetype": "text/x-python",
   "name": "python",
   "nbconvert_exporter": "python",
   "pygments_lexer": "ipython3",
   "version": "3.9.10"
  }
 },
 "nbformat": 4,
 "nbformat_minor": 5
}
